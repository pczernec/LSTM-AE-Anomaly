{
  "cells": [
    {
      "cell_type": "code",
      "execution_count": null,
      "metadata": {
        "id": "lt7bf7QzvUyP",
        "ExecuteTime": {
          "end_time": "2023-06-15T05:46:21.864584157Z",
          "start_time": "2023-06-15T05:46:21.824263643Z"
        }
      },
      "outputs": [],
      "source": [
        "import torch\n",
        "import torch.nn as nn\n",
        "import torch.nn.functional as F\n",
        "import torchvision\n",
        "import matplotlib.pyplot as plt\n",
        "import pandas as pd\n",
        "import numpy as np\n",
        "import urllib.request\n",
        "import math\n",
        "import seaborn as sns\n",
        "\n",
        "import argparse\n",
        "\n",
        "from io import StringIO\n",
        "from scipy.io import arff\n",
        "from sklearn.metrics import precision_score, recall_score, f1_score, confusion_matrix, accuracy_score\n",
        "from sklearn.model_selection import train_test_split\n",
        "from sklearn.preprocessing import StandardScaler\n",
        "from sklearn.model_selection import GridSearchCV\n",
        "from sklearn.svm import OneClassSVM\n",
        "from torch.utils.data import TensorDataset, DataLoader\n",
        "from sklearn.neural_network import MLPClassifier\n",
        "from sklearn.ensemble import IsolationForest\n",
        "\n",
        "from sklearn.preprocessing import MinMaxScaler\n",
        "from sklearn import svm"
      ]
    },
    {
      "cell_type": "code",
      "execution_count": null,
      "metadata": {
        "id": "N3TM83gauamJ",
        "ExecuteTime": {
          "end_time": "2023-06-15T05:46:28.461543729Z",
          "start_time": "2023-06-15T05:46:23.022384058Z"
        }
      },
      "outputs": [],
      "source": [
        "ftpstream = urllib.request.urlopen('http://www.ece.uah.edu/~thm0009/icsdatasets/IanArffDataset.arff')\n",
        "arffdata, arffmeta = arff.loadarff(StringIO(ftpstream.read().decode('utf-8')))\n",
        "\n",
        "data_df = pd.DataFrame(arffdata)\n",
        "data_df = data_df[data_df[\"time\"]\n",
        "\n",
        "data_df['command response'] = data_df['command response'].str.decode(\"utf-8\")\n",
        "data_df['binary result'] = data_df['binary result'].str.decode(\"utf-8\")\n",
        "data_df['categorized result'] = data_df['categorized result'].str.decode(\"utf-8\")\n",
        "data_df['specific result'] = data_df['specific result'].str.decode(\"utf-8\")\n",
        "\n",
        "data_df['command response'] = data_df['command response'].astype(float)\n",
        "data_df['binary result']  = data_df['binary result'] .astype(float)\n",
        "data_df['categorized result'] = data_df['categorized result'].astype(float)\n",
        "data_df['specific result'] = data_df['specific result'].astype(float)\n",
        "\n",
        "data_df['nc'] = data_df.isnull().sum(axis=1)\n",
        "data_df = data_df.sort_values('time')\n",
        "\n",
        "nancols = data_df.columns[data_df.isna().any()].tolist()\n",
        "for col in nancols:\n",
        "  data_df[col] = data_df[col].interpolate()\n",
        "\n",
        "not_numbers = data_df.isin([np.inf, -np.inf]).sum().sum() + data_df.isna().sum().sum()\n",
        "\n",
        "data_df = data_df.dropna()\n",
        "not_numbers = data_df.isin([np.inf, -np.inf]).sum().sum() + data_df.isna().sum().sum()\n",
        "\n",
        "print(data_df.shape)"
      ]
    },
    {
      "cell_type": "code",
      "execution_count": null,
      "metadata": {
        "id": "E1NLcmW5oX3W",
        "ExecuteTime": {
          "end_time": "2023-06-15T05:46:33.643920912Z",
          "start_time": "2023-06-15T05:46:33.596288007Z"
        }
      },
      "outputs": [],
      "source": [
        "datacols = ['address', 'function', 'length', 'setpoint', 'gain', 'reset rate',\n",
        "            'deadband', 'cycle time', 'rate', 'system mode', 'control scheme', 'pump',\n",
        "            'solenoid', 'pressure measurement', 'crc rate']\n",
        "additional_cols = ['specific result', 'categorized result', 'binary result', 'time', 'command response', 'nc']\n",
        "\n",
        "#skalowanie\n",
        "scaler = MinMaxScaler()\n",
        "scaler.fit(data_df[datacols])\n",
        "data_df[datacols] = pd.DataFrame(scaler.transform(data_df[datacols]))\n",
        "\n",
        "attack_df = data_df[data_df['binary result'] == 1]\n",
        "normal_df = data_df[data_df['binary result'] == 0]"
      ]
    },
    {
      "cell_type": "code",
      "execution_count": null,
      "outputs": [],
      "source": [
        "input_size = 14\n",
        "input_size1 = 14\n",
        "\n",
        "encoding_dim = 9\n",
        "encoding_dim2 = 9\n",
        "cons_frames = 9\n",
        "\n",
        "parser = argparse.ArgumentParser()\n",
        "args = parser.parse_args('')\n",
        "\n",
        "args.batch_size = 1\n",
        "args.n_layers = 1\n",
        "args.embedding_dim = 64\n",
        "args.dropout = 0\n",
        "args.use_bn = False"
      ],
      "metadata": {
        "ExecuteTime": {
          "end_time": "2023-06-15T05:46:44.640985470Z",
          "start_time": "2023-06-15T05:46:44.597175874Z"
        },
        "id": "WLEo_mDYLMfI"
      }
    },
    {
      "cell_type": "code",
      "execution_count": null,
      "metadata": {
        "id": "P5PIphTjxuRF",
        "ExecuteTime": {
          "end_time": "2023-06-15T05:46:49.139976043Z",
          "start_time": "2023-06-15T05:46:49.058969941Z"
        }
      },
      "outputs": [],
      "source": [
        "train_normal_df, test_normal_df = train_test_split(normal_df, test_size=0.3, shuffle=False)\n",
        "\n",
        "train_all_df, test_all_df = train_test_split(data_df, test_size=0.3, shuffle=False)\n",
        "\n",
        "train_df1 = train_normal_df\n",
        "train_df1 = train_df1.dropna(axis=1, how='all')\n",
        "train_additional_df1 = train_df1['binary result']\n",
        "train_df1 = train_df1.drop(columns=additional_cols)\n",
        "train_data1 = torch.tensor(train_df1.values, dtype=torch.float32)\n",
        "train_additional_data1 = torch.tensor(train_additional_df1.values, dtype=torch.float32)\n",
        "train_dataset1 = TensorDataset(train_data1, train_additional_data1)\n",
        "loader_train_1 = DataLoader(train_dataset1, batch_size=cons_frames, shuffle=False, drop_last=True)\n",
        "\n",
        "test_df1 = test_normal_df\n",
        "test_df1 = test_df1.dropna(axis=1, how='all')\n",
        "test_additional_df1 = test_df1['binary result']\n",
        "test_df1 = test_df1.drop(columns=additional_cols)\n",
        "test_data1 = torch.tensor(test_df1.values, dtype=torch.float32)\n",
        "test_additional_data1 = torch.tensor(test_additional_df1.values, dtype=torch.float32)\n",
        "test_dataset1 = TensorDataset(test_data1, test_additional_data1)\n",
        "loader_test_1 = DataLoader(test_dataset1, batch_size=cons_frames, shuffle=False, drop_last=True)\n",
        "\n",
        "test_a_df1 = test_all_df\n",
        "test_a_df1 = test_a_df1.dropna(axis=1, how='all')\n",
        "test_a_df1 = test_a_df1.dropna()\n",
        "test_additional_a_df1 = test_a_df1['binary result']\n",
        "test_a_df1 = test_a_df1.drop(columns=additional_cols)\n",
        "test_a_data1 = torch.tensor(test_a_df1.values, dtype=torch.float32)\n",
        "test_additional_a_data1 = torch.tensor(test_additional_a_df1.values, dtype=torch.float32)\n",
        "test_a_dataset1 = TensorDataset(test_a_data1, test_additional_a_data1)\n",
        "loader_test_a_1 = DataLoader(test_a_dataset1, batch_size=cons_frames, shuffle=False, drop_last=True)\n",
        "\n",
        "train_a_df1 = train_all_df\n",
        "train_a_df1 = train_a_df1.dropna(axis=1, how='all')\n",
        "train_a_df1 = train_a_df1.dropna()\n",
        "train_additional_a_df1 = train_a_df1['binary result']\n",
        "train_a_df1 = train_a_df1.drop(columns=additional_cols)\n",
        "train_a_data1 = torch.tensor(train_a_df1.values, dtype=torch.float32)\n",
        "train_additional_a_data1 = torch.tensor(train_additional_a_df1.values, dtype=torch.float32)\n",
        "train_a_dataset1 = TensorDataset(train_a_data1, train_additional_a_data1)\n",
        "loader_train_a_1 = DataLoader(train_a_dataset1, batch_size=cons_frames, shuffle=False, drop_last=True)"
      ]
    },
    {
      "cell_type": "code",
      "execution_count": null,
      "metadata": {
        "id": "nAWfpySHxx2o",
        "ExecuteTime": {
          "end_time": "2023-06-15T05:46:54.574430543Z",
          "start_time": "2023-06-15T05:46:54.565504778Z"
        }
      },
      "outputs": [],
      "source": [
        "class Encoder(nn.Module):\n",
        "    def __init__(self, input_size, encoding_dim):\n",
        "        super().__init__()\n",
        "\n",
        "        self.hidden_dim = 2 * args.embedding_dim\n",
        "        self.seq_len = encoding_dim\n",
        "        self.n_features = input_size\n",
        "\n",
        "        self.rnn1 = nn.LSTM(\n",
        "            input_size=input_size,\n",
        "            hidden_size=self.hidden_dim,\n",
        "            num_layers=args.n_layers,\n",
        "            batch_first=True\n",
        "        )\n",
        "        self.rnn2 = nn.LSTM(\n",
        "            input_size=self.hidden_dim,\n",
        "            hidden_size=args.embedding_dim,\n",
        "            num_layers=args.n_layers,\n",
        "            batch_first=True\n",
        "        )\n",
        "\n",
        "    def forward(self, x):\n",
        "        x = x.reshape((args.batch_size, self.seq_len, self.n_features))\n",
        "        x, (_, _) = self.rnn1(x)\n",
        "        x, (hidden_n, _) = self.rnn2(x)\n",
        "        return hidden_n.reshape((1, args.embedding_dim))\n",
        "\n",
        "class Decoder(nn.Module):\n",
        "    def __init__(self, encoding_dim, input_size):\n",
        "        super().__init__()\n",
        "        self.seq_len = encoding_dim\n",
        "        self.hidden_dim = 2 * args.embedding_dim\n",
        "        self.n_features = input_size\n",
        "\n",
        "        self.rnn1 = nn.LSTM(\n",
        "            input_size=args.embedding_dim,\n",
        "            hidden_size=args.embedding_dim,\n",
        "            num_layers=args.n_layers,\n",
        "            batch_first=True\n",
        "        )\n",
        "        self.rnn2 = nn.LSTM(\n",
        "            input_size=args.embedding_dim,\n",
        "            hidden_size=self.hidden_dim,\n",
        "            num_layers=args.n_layers,\n",
        "            batch_first=True\n",
        "        )\n",
        "        self.output_layer = nn.Linear(self.hidden_dim, input_size)\n",
        "\n",
        "    def forward(self, x):\n",
        "        x = x.repeat(self.seq_len, args.batch_size)\n",
        "        x = x.reshape((1, self.seq_len, args.embedding_dim))\n",
        "        x, (hidden_n, cell_n) = self.rnn1(x)\n",
        "        x, (hidden_n, cell_n) = self.rnn2(x)\n",
        "        x = x.reshape((self.seq_len, self.hidden_dim))\n",
        "\n",
        "        return self.output_layer(x)\n",
        "\n",
        "class Autoencoder(nn.Module):\n",
        "    def __init__(self, input_size, encoding_dim):\n",
        "        super().__init__()\n",
        "        self.encoder = Encoder(input_size, encoding_dim)\n",
        "        self.decoder = Decoder(encoding_dim, input_size)\n",
        "        self.hidden_n = []\n",
        "\n",
        "    def forward(self, x):\n",
        "        x = x.unsqueeze(0)\n",
        "        x = self.encoder(x)\n",
        "        self.hidden_n = x;\n",
        "        x = self.decoder(x)\n",
        "        return x\n",
        "\n",
        "    def encoded(self):\n",
        "        return self.hidden_n\n",
        "\n",
        "autoencoder1 = Autoencoder(15, encoding_dim)"
      ]
    },
    {
      "cell_type": "code",
      "execution_count": null,
      "metadata": {
        "id": "8EFAo7d3x0NN",
        "ExecuteTime": {
          "end_time": "2023-06-15T05:46:59.644773179Z",
          "start_time": "2023-06-15T05:46:59.634964724Z"
        }
      },
      "outputs": [],
      "source": [
        "device = torch.device('cuda:0' if torch.cuda.is_available() else 'cpu')\n",
        "\n",
        "def train(model, trainloader=None, valloader=None, num_epochs=10):\n",
        "    losses = []\n",
        "\n",
        "    phases = ['train']\n",
        "    print(phases)\n",
        "    dataloaders = {'train':trainloader}\n",
        "    if valloader:\n",
        "        phases.append('valid')\n",
        "        dataloaders['valid'] = valloader\n",
        "\n",
        "    model.to(device)\n",
        "    optimizer = torch.optim.Adam(model.parameters())\n",
        "    criterion = torch.nn.MSELoss()\n",
        "\n",
        "    for epoch in range(num_epochs):\n",
        "        print(f'Epoch {epoch+1}/{num_epochs}\\n{\"-\"*10}')\n",
        "\n",
        "        for phase in phases:\n",
        "            if phase == 'train':\n",
        "                model.train()\n",
        "            else: model.eval()\n",
        "\n",
        "            running_loss, running_correct, count = 0.0, 0, 0\n",
        "\n",
        "            for i, minibatch in enumerate(dataloaders[phase]):\n",
        "                values, _ = minibatch\n",
        "                values = values.to(device)\n",
        "\n",
        "                optimizer.zero_grad()\n",
        "\n",
        "                with torch.set_grad_enabled(phase=='train'):\n",
        "                    outputs = model(values)\n",
        "                    loss    = criterion(outputs, values)\n",
        "                    if phase == 'train':\n",
        "                        loss.backward()\n",
        "                        optimizer.step()\n",
        "\n",
        "                running_loss += loss.item() * values.size(0)\n",
        "                count += len(values)\n",
        "\n",
        "                losses.append(loss.item())\n",
        "\n",
        "            epoch_loss = running_loss / count\n",
        "            print(f'{phase} loss {epoch_loss:.6f}')\n",
        "        print()\n",
        "    return losses"
      ]
    },
    {
      "cell_type": "code",
      "execution_count": null,
      "metadata": {
        "colab": {
          "base_uri": "https://localhost:8080/"
        },
        "id": "zaKI-PFCv15E",
        "outputId": "05d78b65-2a09-442d-dce4-5801e94bb13e",
        "ExecuteTime": {
          "end_time": "2023-06-15T05:50:30.196729538Z",
          "start_time": "2023-06-15T05:47:07.880997255Z"
        }
      },
      "outputs": [
        {
          "name": "stdout",
          "output_type": "stream",
          "text": [
            "['train']\n",
            "Epoch 1/12\n",
            "----------\n",
            "train loss 0.042801\n",
            "valid loss 0.107331\n",
            "\n",
            "Epoch 2/12\n",
            "----------\n",
            "train loss 0.046445\n",
            "valid loss 0.113937\n",
            "\n",
            "Epoch 3/12\n",
            "----------\n",
            "train loss 0.046428\n",
            "valid loss 0.097810\n",
            "\n",
            "Epoch 4/12\n",
            "----------\n",
            "train loss 0.044481\n",
            "valid loss 0.110805\n",
            "\n",
            "Epoch 5/12\n",
            "----------\n",
            "train loss 0.046664\n",
            "valid loss 0.085452\n",
            "\n",
            "Epoch 6/12\n",
            "----------\n",
            "train loss 0.045748\n",
            "valid loss 0.116348\n",
            "\n",
            "Epoch 7/12\n",
            "----------\n",
            "train loss 0.047160\n",
            "valid loss 0.109860\n",
            "\n",
            "Epoch 8/12\n",
            "----------\n",
            "train loss 0.044180\n",
            "valid loss 0.097053\n",
            "\n",
            "Epoch 9/12\n",
            "----------\n",
            "train loss 0.044670\n",
            "valid loss 0.086256\n",
            "\n",
            "Epoch 10/12\n",
            "----------\n",
            "train loss 0.042703\n",
            "valid loss 0.076924\n",
            "\n",
            "Epoch 11/12\n",
            "----------\n",
            "train loss 0.039152\n",
            "valid loss 0.074502\n",
            "\n",
            "Epoch 12/12\n",
            "----------\n",
            "train loss 0.035701\n",
            "valid loss 0.068658\n",
            "\n"
          ]
        }
      ],
      "source": [
        "loss_hist1 = train(autoencoder1, loader_train_1, loader_test_1, 12)"
      ]
    },
    {
      "cell_type": "code",
      "execution_count": null,
      "outputs": [
        {
          "name": "stdout",
          "output_type": "stream",
          "text": [
            "torch.Size([30441, 15])\n",
            "torch.Size([24352, 15])\n"
          ]
        }
      ],
      "source": [
        "print(train_a_data1.shape)\n",
        "a1, a2 = train_test_split(train_a_data1, test_size=0.2, shuffle=False)\n",
        "b1, b2 = train_test_split(train_additional_a_data1, test_size=0.2, shuffle=False)\n",
        "print(a1.shape)\n",
        "\n",
        "td1 = TensorDataset(a1, b1)\n",
        "ldt1 = DataLoader(td1, batch_size=cons_frames, shuffle=False, drop_last=True)"
      ],
      "metadata": {
        "ExecuteTime": {
          "end_time": "2023-06-15T01:04:42.487301397Z",
          "start_time": "2023-06-15T01:04:42.475016486Z"
        },
        "id": "2MLdwb0yLMfK",
        "outputId": "9fb3968c-2c3f-4d32-a969-6abcc345cb9d"
      }
    },
    {
      "cell_type": "code",
      "execution_count": null,
      "metadata": {
        "id": "I0D5PYpgv784",
        "ExecuteTime": {
          "end_time": "2023-06-15T01:31:20.231917307Z",
          "start_time": "2023-06-15T01:31:12.938121095Z"
        }
      },
      "outputs": [],
      "source": [
        "outputs_train = []\n",
        "for i, minibatch in enumerate(loader_train_a_1):\n",
        "    values, _ = minibatch\n",
        "    values = values.to(device)\n",
        "    output = autoencoder1(values)\n",
        "    outputs_train.append(output)\n",
        "\n",
        "results = torch.cat(outputs_train, dim=0)\n",
        "\n",
        "diff_train = train_a_data1 - results\n",
        "\n",
        "diff_train = diff_train.detach().numpy()\n",
        "print(diff_train.shape)"
      ]
    },
    {
      "cell_type": "code",
      "execution_count": null,
      "outputs": [
        {
          "data": {
            "text/plain": "SVC()",
            "text/html": "<style>#sk-container-id-4 {color: black;background-color: white;}#sk-container-id-4 pre{padding: 0;}#sk-container-id-4 div.sk-toggleable {background-color: white;}#sk-container-id-4 label.sk-toggleable__label {cursor: pointer;display: block;width: 100%;margin-bottom: 0;padding: 0.3em;box-sizing: border-box;text-align: center;}#sk-container-id-4 label.sk-toggleable__label-arrow:before {content: \"▸\";float: left;margin-right: 0.25em;color: #696969;}#sk-container-id-4 label.sk-toggleable__label-arrow:hover:before {color: black;}#sk-container-id-4 div.sk-estimator:hover label.sk-toggleable__label-arrow:before {color: black;}#sk-container-id-4 div.sk-toggleable__content {max-height: 0;max-width: 0;overflow: hidden;text-align: left;background-color: #f0f8ff;}#sk-container-id-4 div.sk-toggleable__content pre {margin: 0.2em;color: black;border-radius: 0.25em;background-color: #f0f8ff;}#sk-container-id-4 input.sk-toggleable__control:checked~div.sk-toggleable__content {max-height: 200px;max-width: 100%;overflow: auto;}#sk-container-id-4 input.sk-toggleable__control:checked~label.sk-toggleable__label-arrow:before {content: \"▾\";}#sk-container-id-4 div.sk-estimator input.sk-toggleable__control:checked~label.sk-toggleable__label {background-color: #d4ebff;}#sk-container-id-4 div.sk-label input.sk-toggleable__control:checked~label.sk-toggleable__label {background-color: #d4ebff;}#sk-container-id-4 input.sk-hidden--visually {border: 0;clip: rect(1px 1px 1px 1px);clip: rect(1px, 1px, 1px, 1px);height: 1px;margin: -1px;overflow: hidden;padding: 0;position: absolute;width: 1px;}#sk-container-id-4 div.sk-estimator {font-family: monospace;background-color: #f0f8ff;border: 1px dotted black;border-radius: 0.25em;box-sizing: border-box;margin-bottom: 0.5em;}#sk-container-id-4 div.sk-estimator:hover {background-color: #d4ebff;}#sk-container-id-4 div.sk-parallel-item::after {content: \"\";width: 100%;border-bottom: 1px solid gray;flex-grow: 1;}#sk-container-id-4 div.sk-label:hover label.sk-toggleable__label {background-color: #d4ebff;}#sk-container-id-4 div.sk-serial::before {content: \"\";position: absolute;border-left: 1px solid gray;box-sizing: border-box;top: 0;bottom: 0;left: 50%;z-index: 0;}#sk-container-id-4 div.sk-serial {display: flex;flex-direction: column;align-items: center;background-color: white;padding-right: 0.2em;padding-left: 0.2em;position: relative;}#sk-container-id-4 div.sk-item {position: relative;z-index: 1;}#sk-container-id-4 div.sk-parallel {display: flex;align-items: stretch;justify-content: center;background-color: white;position: relative;}#sk-container-id-4 div.sk-item::before, #sk-container-id-4 div.sk-parallel-item::before {content: \"\";position: absolute;border-left: 1px solid gray;box-sizing: border-box;top: 0;bottom: 0;left: 50%;z-index: -1;}#sk-container-id-4 div.sk-parallel-item {display: flex;flex-direction: column;z-index: 1;position: relative;background-color: white;}#sk-container-id-4 div.sk-parallel-item:first-child::after {align-self: flex-end;width: 50%;}#sk-container-id-4 div.sk-parallel-item:last-child::after {align-self: flex-start;width: 50%;}#sk-container-id-4 div.sk-parallel-item:only-child::after {width: 0;}#sk-container-id-4 div.sk-dashed-wrapped {border: 1px dashed gray;margin: 0 0.4em 0.5em 0.4em;box-sizing: border-box;padding-bottom: 0.4em;background-color: white;}#sk-container-id-4 div.sk-label label {font-family: monospace;font-weight: bold;display: inline-block;line-height: 1.2em;}#sk-container-id-4 div.sk-label-container {text-align: center;}#sk-container-id-4 div.sk-container {/* jupyter's `normalize.less` sets `[hidden] { display: none; }` but bootstrap.min.css set `[hidden] { display: none !important; }` so we also need the `!important` here to be able to override the default hidden behavior on the sphinx rendered scikit-learn.org. See: https://github.com/scikit-learn/scikit-learn/issues/21755 */display: inline-block !important;position: relative;}#sk-container-id-4 div.sk-text-repr-fallback {display: none;}</style><div id=\"sk-container-id-4\" class=\"sk-top-container\"><div class=\"sk-text-repr-fallback\"><pre>SVC()</pre><b>In a Jupyter environment, please rerun this cell to show the HTML representation or trust the notebook. <br />On GitHub, the HTML representation is unable to render, please try loading this page with nbviewer.org.</b></div><div class=\"sk-container\" hidden><div class=\"sk-item\"><div class=\"sk-estimator sk-toggleable\"><input class=\"sk-toggleable__control sk-hidden--visually\" id=\"sk-estimator-id-4\" type=\"checkbox\" checked><label for=\"sk-estimator-id-4\" class=\"sk-toggleable__label sk-toggleable__label-arrow\">SVC</label><div class=\"sk-toggleable__content\"><pre>SVC()</pre></div></div></div></div></div>"
          },
          "execution_count": 32,
          "metadata": {},
          "output_type": "execute_result"
        }
      ],
      "source": [
        "#print(train_additional_a_data1.shape)\n",
        "#train_additional_a_data1 = torch.cat((train_additional_a_data1[:9804],train_additional_a_data1[9814:]))\n",
        "#print(train_additional_a_data1.shape)\n",
        "\n",
        "#clf = OneClassSVM(nu=0.08, kernel=\"rbf\", gamma=0.3)\n",
        "clf = svm.SVC(kernel='rbf')\n",
        "#clf = MLPClassifier(alpha=1e-7,hidden_layer_sizes=(8, 4),max_iter=1000)\n",
        "\n",
        "#clf.fit(diff_train,train_additional_a_data1)\n",
        "clf.fit(diff_train,torch.cat((train_additional_a_data1[:68310],train_additional_a_data1[68318:])))\n",
        "#clf.fit(diff_train)"
      ],
      "metadata": {
        "ExecuteTime": {
          "end_time": "2023-06-15T01:32:51.613234748Z",
          "start_time": "2023-06-15T01:31:49.208226455Z"
        },
        "id": "ai1sLtv6LMfK",
        "outputId": "4bcba55c-5db0-44c1-8eb8-733826a33707"
      }
    },
    {
      "cell_type": "code",
      "execution_count": null,
      "outputs": [
        {
          "name": "stdout",
          "output_type": "stream",
          "text": [
            "tensor([[0.2108, 0.1135, 0.3767,  ..., 0.0149, 0.0057, 0.2272],\n",
            "        [0.2104, 0.1114, 0.3806,  ..., 0.0592, 0.0032, 0.2278],\n",
            "        [0.2103, 0.1109, 0.3814,  ..., 0.0671, 0.0026, 0.2281],\n",
            "        ...,\n",
            "        [0.2075, 0.0671, 0.4151,  ..., 1.0225, 0.0029, 0.2205],\n",
            "        [0.2075, 0.0669, 0.4150,  ..., 1.0219, 0.0030, 0.2205],\n",
            "        [0.2075, 0.0668, 0.4150,  ..., 1.0215, 0.0031, 0.2205]],\n",
            "       grad_fn=<CatBackward0>)\n"
          ]
        },
        {
          "data": {
            "text/plain": "tensor([[-2.8628e-04, -9.5944e-02,  7.3299e-02,  ..., -1.4919e-02,\n         -5.6847e-03, -3.4076e-03],\n        [ 1.1401e-04, -1.7837e-02,  6.1935e-01,  ..., -5.9231e-02,\n         -3.1531e-03,  2.7569e-02],\n        [ 1.9816e-04, -1.7359e-02, -3.0644e-01,  ..., -6.7056e-02,\n         -2.6319e-03,  4.2828e-02],\n        ...,\n        [ 3.0124e-03,  2.6491e-02,  5.8495e-01,  ..., -2.2482e-02,\n         -2.9141e-03, -2.3869e-02],\n        [ 3.0248e-03,  2.6630e-02, -3.4004e-01,  ..., -2.1854e-02,\n         -3.0330e-03,  5.0401e-02],\n        [ 3.0331e-03, -4.9265e-02, -3.4004e-01,  ..., -2.1460e-02,\n         -3.1325e-03, -2.3837e-02]], grad_fn=<SubBackward0>)"
          },
          "metadata": {},
          "output_type": "display_data"
        },
        {
          "name": "stdout",
          "output_type": "stream",
          "text": [
            "[0. 0. 0. ... 0. 0. 0.]\n",
            "3275\n",
            "26002\n"
          ]
        }
      ],
      "source": [
        "outputs = []\n",
        "for i, minibatch in enumerate(loader_test_a_1):\n",
        "    values, _ = minibatch\n",
        "    values = values.to(device)\n",
        "    output = autoencoder1(values)\n",
        "    outputs.append(output)\n",
        "\n",
        "results = torch.cat(outputs, dim=0)\n",
        "\n",
        "print(results)\n",
        "test_a_data1 = torch.cat((test_a_data1[:29277],test_a_data1[29278:]))\n",
        "diff = test_a_data1 - results\n",
        "\n",
        "display(diff)\n",
        "\n",
        "diff = diff.detach().numpy()\n",
        "\n",
        "predictions_test = clf.predict(diff)\n",
        "\n",
        "#predictions_test[predictions_test == 1]=0\n",
        "#predictions_test[predictions_test == -1]=1\n",
        "\n",
        "print(predictions_test)\n",
        "print(predictions_test.tolist().count(1))\n",
        "print(predictions_test.tolist().count(0))"
      ],
      "metadata": {
        "ExecuteTime": {
          "end_time": "2023-06-15T01:33:56.957424746Z",
          "start_time": "2023-06-15T01:33:30.809964415Z"
        },
        "id": "nWI6hAovLMfL",
        "outputId": "86f56216-23c6-427d-f7e2-57b6dbeba8ca"
      }
    },
    {
      "cell_type": "code",
      "execution_count": null,
      "outputs": [
        {
          "name": "stdout",
          "output_type": "stream",
          "text": [
            "0.8097824230624723\n",
            "0.7187786259541985\n",
            "0.3361896600971151\n",
            "0.45811034348545293\n"
          ]
        },
        {
          "data": {
            "text/plain": "<Figure size 640x480 with 2 Axes>",
            "image/png": "[encoded data removed]"
          },
          "metadata": {},
          "output_type": "display_data"
        }
      ],
      "source": [
        "v1 = test_additional_a_df1.values.tolist()\n",
        "v2 = predictions_test.tolist()\n",
        "\n",
        "cm = confusion_matrix(v1,v2)\n",
        "\n",
        "accuracy = accuracy_score(v1,v2)\n",
        "precision = precision_score(v1,v2)\n",
        "recall = recall_score(v1,v2)\n",
        "f1 = f1_score(v1,v2)\n",
        "\n",
        "print(accuracy)\n",
        "print(precision)\n",
        "print(recall)\n",
        "print(f1)\n",
        "\n",
        "sns.heatmap(cm, annot=True, fmt=\"d\", cmap=\"Blues\")\n",
        "\n",
        "plt.xlabel(\"Predicted\")\n",
        "plt.ylabel(\"True\")\n",
        "plt.title(\"Confusion Matrix\")\n",
        "tick_labels = ['0', '1']\n",
        "plt.xticks(np.arange(2) + 0.5, tick_labels)\n",
        "plt.yticks(np.arange(2) + 0.5, tick_labels)\n",
        "plt.show()"
      ],
      "metadata": {
        "ExecuteTime": {
          "end_time": "2023-06-15T01:34:00.170975691Z",
          "start_time": "2023-06-15T01:33:59.943152046Z"
        },
        "id": "WOUMaGxqLMfL",
        "outputId": "db7ada1d-947d-4df8-9eed-ce97e0406c28"
      }
    }
  ],
  "metadata": {
    "colab": {
      "provenance": []
    },
    "kernelspec": {
      "name": "python3",
      "language": "python",
      "display_name": "Python 3 (ipykernel)"
    },
    "language_info": {
      "codemirror_mode": {
        "name": "ipython",
        "version": 2
      },
      "file_extension": ".py",
      "mimetype": "text/x-python",
      "name": "python",
      "nbconvert_exporter": "python",
      "pygments_lexer": "ipython2",
      "version": "2.7.6"
    }
  },
  "nbformat": 4,
  "nbformat_minor": 0
}