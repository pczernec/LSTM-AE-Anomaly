{
 "cells": [
  {
   "cell_type": "code",
   "execution_count": 1,
   "metadata": {
    "id": "lt7bf7QzvUyP",
    "ExecuteTime": {
     "end_time": "2023-06-20T01:54:53.190642188Z",
     "start_time": "2023-06-20T01:54:50.232562911Z"
    }
   },
   "outputs": [
    {
     "name": "stderr",
     "output_type": "stream",
     "text": [
      "2023-06-20 03:54:51.842388: I tensorflow/core/platform/cpu_feature_guard.cc:182] This TensorFlow binary is optimized to use available CPU instructions in performance-critical operations.\n",
      "To enable the following instructions: AVX2 FMA, in other operations, rebuild TensorFlow with the appropriate compiler flags.\n",
      "2023-06-20 03:54:52.493038: W tensorflow/compiler/tf2tensorrt/utils/py_utils.cc:38] TF-TRT Warning: Could not find TensorRT\n"
     ]
    }
   ],
   "source": [
    "import torch\n",
    "import urllib.request\n",
    "import math\n",
    "import seaborn as sns\n",
    "\n",
    "import tensorflow as tf\n",
    "tf.random.set_seed(7)\n",
    "from tensorflow.keras.layers import Conv1D\n",
    "from tensorflow.keras.layers import MaxPooling1D\n",
    "from io import StringIO\n",
    "from scipy.io import arff\n",
    "from sklearn.metrics import precision_score, recall_score, f1_score, confusion_matrix, accuracy_score\n",
    "from sklearn.model_selection import train_test_split\n",
    "from torch.utils.data import TensorDataset, DataLoader\n",
    "from sklearn.preprocessing import MinMaxScaler\n",
    "\n",
    "import keras\n",
    "from keras.layers import LSTM, Dropout, Dense\n",
    "import tensorflow as tf\n",
    "import numpy as np\n",
    "import pandas as pd\n",
    "\n",
    "from sklearn import svm"
   ]
  },
  {
   "cell_type": "code",
   "execution_count": 2,
   "metadata": {
    "id": "N3TM83gauamJ",
    "ExecuteTime": {
     "end_time": "2023-06-20T01:55:02.684359035Z",
     "start_time": "2023-06-20T01:54:57.395630760Z"
    }
   },
   "outputs": [
    {
     "name": "stdout",
     "output_type": "stream",
     "text": [
      "(97598, 21)\n"
     ]
    }
   ],
   "source": [
    "ftpstream = urllib.request.urlopen('http://www.ece.uah.edu/~thm0009/icsdatasets/IanArffDataset.arff')\n",
    "arffdata, arffmeta = arff.loadarff(StringIO(ftpstream.read().decode('utf-8')))\n",
    "\n",
    "data_df = pd.DataFrame(arffdata)\n",
    "data_df = data_df[data_df[\"time\"] < 1418780000]\n",
    "\n",
    "data_df['command response'] = data_df['command response'].str.decode(\"utf-8\")\n",
    "data_df['binary result'] = data_df['binary result'].str.decode(\"utf-8\")\n",
    "data_df['categorized result'] = data_df['categorized result'].str.decode(\"utf-8\")\n",
    "data_df['specific result'] = data_df['specific result'].str.decode(\"utf-8\")\n",
    "\n",
    "data_df['command response'] = data_df['command response'].astype(float)\n",
    "data_df['binary result']  = data_df['binary result'] .astype(float)\n",
    "data_df['categorized result'] = data_df['categorized result'].astype(float)\n",
    "data_df['specific result'] = data_df['specific result'].astype(float)\n",
    "\n",
    "data_df['nc'] = data_df.isnull().sum(axis=1)\n",
    "#data_df.isnull().sum(axis=1)\n",
    "data_df = data_df.sort_values('time')\n",
    "\n",
    "nancols = data_df.columns[data_df.isna().any()].tolist()\n",
    "for col in nancols:\n",
    "  data_df[col] = data_df[col].interpolate()\n",
    "\n",
    "#inf nan etc\n",
    "not_numbers = data_df.isin([np.inf, -np.inf]).sum().sum() + data_df.isna().sum().sum()\n",
    "\n",
    "data_df = data_df.dropna() # dla małej części nie zadziałało ale życie\n",
    "not_numbers = data_df.isin([np.inf, -np.inf]).sum().sum() + data_df.isna().sum().sum()\n",
    "\n",
    "print(data_df.shape)"
   ]
  },
  {
   "cell_type": "code",
   "execution_count": 3,
   "metadata": {
    "id": "E1NLcmW5oX3W",
    "ExecuteTime": {
     "end_time": "2023-06-20T01:55:06.442798399Z",
     "start_time": "2023-06-20T01:55:06.372854877Z"
    }
   },
   "outputs": [],
   "source": [
    "datacols = ['address', 'function', 'length', 'setpoint', 'gain', 'reset rate',\n",
    "            'deadband', 'cycle time', 'rate', 'system mode', 'control scheme', 'pump',\n",
    "            'solenoid', 'pressure measurement', 'crc rate','nc']\n",
    "additional_cols = ['specific result', 'categorized result', 'binary result', 'time', 'command response', 'nc']\n",
    "\n",
    "#skalowanie\n",
    "scaler = MinMaxScaler()\n",
    "scaler.fit(data_df[datacols])\n",
    "data_df[datacols] = pd.DataFrame(scaler.transform(data_df[datacols]))\n",
    "\n",
    "attack_df = data_df[data_df['binary result'] == 1]\n",
    "normal_df = data_df[data_df['binary result'] == 0]"
   ]
  },
  {
   "cell_type": "code",
   "execution_count": 13,
   "outputs": [
    {
     "data": {
      "text/plain": "((97578, 20, 16), (97578,))"
     },
     "execution_count": 13,
     "metadata": {},
     "output_type": "execute_result"
    }
   ],
   "source": [
    "rec_count = len(data_df)\n",
    "seq_length = 30\n",
    "\n",
    "def prepare_data(X, y, seq_length = 20, step = 1):\n",
    "    X_local = []\n",
    "    y_local = []\n",
    "    for start in range(0, len(data_df) - seq_length, step):\n",
    "        end = start + seq_length\n",
    "        X_local.append(X[start:end])\n",
    "        y_local.append(y[end-1])\n",
    "    return np.array(X_local), np.array(y_local)\n",
    "\n",
    "a1 = data_df[datacols]\n",
    "a2 = data_df['binary result']\n",
    "a2[a2>0]=1\n",
    "\n",
    "X_sequence, y = prepare_data(a1.values, a2)\n",
    "\n",
    "X_sequence.shape, y.shape"
   ],
   "metadata": {
    "collapsed": false,
    "ExecuteTime": {
     "end_time": "2023-06-20T01:58:09.117867785Z",
     "start_time": "2023-06-20T01:58:08.825212376Z"
    }
   }
  },
  {
   "cell_type": "code",
   "execution_count": 14,
   "outputs": [
    {
     "ename": "ValueError",
     "evalue": "This model has not yet been built. Build the model first by calling `build()` or by calling the model on a batch of data.",
     "output_type": "error",
     "traceback": [
      "\u001B[0;31m---------------------------------------------------------------------------\u001B[0m",
      "\u001B[0;31mValueError\u001B[0m                                Traceback (most recent call last)",
      "Cell \u001B[0;32mIn[14], line 11\u001B[0m\n\u001B[1;32m      6\u001B[0m model\u001B[38;5;241m.\u001B[39madd(Dense(\u001B[38;5;241m1\u001B[39m, activation\u001B[38;5;241m=\u001B[39m\u001B[38;5;124m'\u001B[39m\u001B[38;5;124msigmoid\u001B[39m\u001B[38;5;124m'\u001B[39m))\n\u001B[1;32m      8\u001B[0m model\u001B[38;5;241m.\u001B[39mcompile(loss\u001B[38;5;241m=\u001B[39m\u001B[38;5;124m\"\u001B[39m\u001B[38;5;124mbinary_crossentropy\u001B[39m\u001B[38;5;124m\"\u001B[39m\n\u001B[1;32m      9\u001B[0m               , metrics\u001B[38;5;241m=\u001B[39m[keras\u001B[38;5;241m.\u001B[39mmetrics\u001B[38;5;241m.\u001B[39mbinary_accuracy]\n\u001B[1;32m     10\u001B[0m               , optimizer\u001B[38;5;241m=\u001B[39m\u001B[38;5;124m\"\u001B[39m\u001B[38;5;124madam\u001B[39m\u001B[38;5;124m\"\u001B[39m)\n\u001B[0;32m---> 11\u001B[0m \u001B[43mmodel\u001B[49m\u001B[38;5;241;43m.\u001B[39;49m\u001B[43msummary\u001B[49m\u001B[43m(\u001B[49m\u001B[43m)\u001B[49m\n",
      "File \u001B[0;32m~/PycharmProjects/Anomal/venv/lib/python3.10/site-packages/keras/engine/training.py:3229\u001B[0m, in \u001B[0;36mModel.summary\u001B[0;34m(self, line_length, positions, print_fn, expand_nested, show_trainable, layer_range)\u001B[0m\n\u001B[1;32m   3198\u001B[0m \u001B[38;5;250m\u001B[39m\u001B[38;5;124;03m\"\"\"Prints a string summary of the network.\u001B[39;00m\n\u001B[1;32m   3199\u001B[0m \n\u001B[1;32m   3200\u001B[0m \u001B[38;5;124;03mArgs:\u001B[39;00m\n\u001B[0;32m   (...)\u001B[0m\n\u001B[1;32m   3226\u001B[0m \u001B[38;5;124;03m    ValueError: if `summary()` is called before the model is built.\u001B[39;00m\n\u001B[1;32m   3227\u001B[0m \u001B[38;5;124;03m\"\"\"\u001B[39;00m\n\u001B[1;32m   3228\u001B[0m \u001B[38;5;28;01mif\u001B[39;00m \u001B[38;5;129;01mnot\u001B[39;00m \u001B[38;5;28mself\u001B[39m\u001B[38;5;241m.\u001B[39mbuilt:\n\u001B[0;32m-> 3229\u001B[0m     \u001B[38;5;28;01mraise\u001B[39;00m \u001B[38;5;167;01mValueError\u001B[39;00m(\n\u001B[1;32m   3230\u001B[0m         \u001B[38;5;124m\"\u001B[39m\u001B[38;5;124mThis model has not yet been built. \u001B[39m\u001B[38;5;124m\"\u001B[39m\n\u001B[1;32m   3231\u001B[0m         \u001B[38;5;124m\"\u001B[39m\u001B[38;5;124mBuild the model first by calling `build()` or by calling \u001B[39m\u001B[38;5;124m\"\u001B[39m\n\u001B[1;32m   3232\u001B[0m         \u001B[38;5;124m\"\u001B[39m\u001B[38;5;124mthe model on a batch of data.\u001B[39m\u001B[38;5;124m\"\u001B[39m\n\u001B[1;32m   3233\u001B[0m     )\n\u001B[1;32m   3234\u001B[0m layer_utils\u001B[38;5;241m.\u001B[39mprint_summary(\n\u001B[1;32m   3235\u001B[0m     \u001B[38;5;28mself\u001B[39m,\n\u001B[1;32m   3236\u001B[0m     line_length\u001B[38;5;241m=\u001B[39mline_length,\n\u001B[0;32m   (...)\u001B[0m\n\u001B[1;32m   3241\u001B[0m     layer_range\u001B[38;5;241m=\u001B[39mlayer_range,\n\u001B[1;32m   3242\u001B[0m )\n",
      "\u001B[0;31mValueError\u001B[0m: This model has not yet been built. Build the model first by calling `build()` or by calling the model on a batch of data."
     ]
    }
   ],
   "source": [
    "model = keras.Sequential()\n",
    "\n",
    "model.add(Conv1D(filters=8, kernel_size=3, padding='same', activation='relu'))\n",
    "model.add(MaxPooling1D(pool_size=2))\n",
    "model.add(LSTM(100))\n",
    "model.add(Dense(1, activation='sigmoid'))\n",
    "\n",
    "model.compile(loss=\"binary_crossentropy\"\n",
    "              , metrics=[keras.metrics.binary_accuracy]\n",
    "              , optimizer=\"adam\")\n",
    "model.summary()"
   ],
   "metadata": {
    "collapsed": false,
    "ExecuteTime": {
     "end_time": "2023-06-20T01:58:18.543727026Z",
     "start_time": "2023-06-20T01:58:18.504718619Z"
    }
   }
  },
  {
   "cell_type": "code",
   "execution_count": 15,
   "outputs": [],
   "source": [
    "train_size = int(len(X_sequence) * 0.7)"
   ],
   "metadata": {
    "collapsed": false,
    "ExecuteTime": {
     "end_time": "2023-06-20T01:59:00.506504711Z",
     "start_time": "2023-06-20T01:59:00.465428036Z"
    }
   }
  },
  {
   "cell_type": "code",
   "execution_count": 16,
   "outputs": [],
   "source": [
    "X_train, y_train = X_sequence[:train_size], y[:train_size]\n",
    "X_test, y_test = X_sequence[train_size:], y[train_size:]"
   ],
   "metadata": {
    "collapsed": false,
    "ExecuteTime": {
     "end_time": "2023-06-20T01:59:01.930888254Z",
     "start_time": "2023-06-20T01:59:01.925424035Z"
    }
   }
  },
  {
   "cell_type": "code",
   "execution_count": 17,
   "outputs": [
    {
     "name": "stdout",
     "output_type": "stream",
     "text": [
      "Epoch 1/20\n"
     ]
    },
    {
     "name": "stderr",
     "output_type": "stream",
     "text": [
      "2023-06-20 03:59:03.769298: I tensorflow/core/common_runtime/executor.cc:1197] [/device:CPU:0] (DEBUG INFO) Executor start aborting (this does not indicate an error and you can ignore this message): INVALID_ARGUMENT: You must feed a value for placeholder tensor 'gradients/split_2_grad/concat/split_2/split_dim' with dtype int32\n",
      "\t [[{{node gradients/split_2_grad/concat/split_2/split_dim}}]]\n",
      "2023-06-20 03:59:03.770996: I tensorflow/core/common_runtime/executor.cc:1197] [/device:CPU:0] (DEBUG INFO) Executor start aborting (this does not indicate an error and you can ignore this message): INVALID_ARGUMENT: You must feed a value for placeholder tensor 'gradients/split_grad/concat/split/split_dim' with dtype int32\n",
      "\t [[{{node gradients/split_grad/concat/split/split_dim}}]]\n",
      "2023-06-20 03:59:03.771872: I tensorflow/core/common_runtime/executor.cc:1197] [/device:CPU:0] (DEBUG INFO) Executor start aborting (this does not indicate an error and you can ignore this message): INVALID_ARGUMENT: You must feed a value for placeholder tensor 'gradients/split_1_grad/concat/split_1/split_dim' with dtype int32\n",
      "\t [[{{node gradients/split_1_grad/concat/split_1/split_dim}}]]\n",
      "2023-06-20 03:59:03.970878: I tensorflow/core/common_runtime/executor.cc:1197] [/device:CPU:0] (DEBUG INFO) Executor start aborting (this does not indicate an error and you can ignore this message): INVALID_ARGUMENT: You must feed a value for placeholder tensor 'gradients/split_2_grad/concat/split_2/split_dim' with dtype int32\n",
      "\t [[{{node gradients/split_2_grad/concat/split_2/split_dim}}]]\n",
      "2023-06-20 03:59:03.975194: I tensorflow/core/common_runtime/executor.cc:1197] [/device:CPU:0] (DEBUG INFO) Executor start aborting (this does not indicate an error and you can ignore this message): INVALID_ARGUMENT: You must feed a value for placeholder tensor 'gradients/split_grad/concat/split/split_dim' with dtype int32\n",
      "\t [[{{node gradients/split_grad/concat/split/split_dim}}]]\n",
      "2023-06-20 03:59:03.978303: I tensorflow/core/common_runtime/executor.cc:1197] [/device:CPU:0] (DEBUG INFO) Executor start aborting (this does not indicate an error and you can ignore this message): INVALID_ARGUMENT: You must feed a value for placeholder tensor 'gradients/split_1_grad/concat/split_1/split_dim' with dtype int32\n",
      "\t [[{{node gradients/split_1_grad/concat/split_1/split_dim}}]]\n",
      "2023-06-20 03:59:04.390585: I tensorflow/core/common_runtime/executor.cc:1197] [/device:CPU:0] (DEBUG INFO) Executor start aborting (this does not indicate an error and you can ignore this message): INVALID_ARGUMENT: You must feed a value for placeholder tensor 'gradients/split_2_grad/concat/split_2/split_dim' with dtype int32\n",
      "\t [[{{node gradients/split_2_grad/concat/split_2/split_dim}}]]\n",
      "2023-06-20 03:59:04.391735: I tensorflow/core/common_runtime/executor.cc:1197] [/device:CPU:0] (DEBUG INFO) Executor start aborting (this does not indicate an error and you can ignore this message): INVALID_ARGUMENT: You must feed a value for placeholder tensor 'gradients/split_grad/concat/split/split_dim' with dtype int32\n",
      "\t [[{{node gradients/split_grad/concat/split/split_dim}}]]\n",
      "2023-06-20 03:59:04.392421: I tensorflow/core/common_runtime/executor.cc:1197] [/device:CPU:0] (DEBUG INFO) Executor start aborting (this does not indicate an error and you can ignore this message): INVALID_ARGUMENT: You must feed a value for placeholder tensor 'gradients/split_1_grad/concat/split_1/split_dim' with dtype int32\n",
      "\t [[{{node gradients/split_1_grad/concat/split_1/split_dim}}]]\n"
     ]
    },
    {
     "name": "stdout",
     "output_type": "stream",
     "text": [
      "1068/1068 [==============================] - 8s 6ms/step - loss: 0.4315 - binary_accuracy: 0.8094\n",
      "Epoch 2/20\n",
      "1068/1068 [==============================] - 7s 6ms/step - loss: 0.3571 - binary_accuracy: 0.8503\n",
      "Epoch 3/20\n",
      "1068/1068 [==============================] - 7s 6ms/step - loss: 0.3198 - binary_accuracy: 0.8666\n",
      "Epoch 4/20\n",
      "1068/1068 [==============================] - 7s 6ms/step - loss: 0.3043 - binary_accuracy: 0.8730\n",
      "Epoch 5/20\n",
      "1068/1068 [==============================] - 7s 6ms/step - loss: 0.2937 - binary_accuracy: 0.8783\n",
      "Epoch 6/20\n",
      "1068/1068 [==============================] - 7s 6ms/step - loss: 0.2852 - binary_accuracy: 0.8819\n",
      "Epoch 7/20\n",
      "1068/1068 [==============================] - 7s 6ms/step - loss: 0.2783 - binary_accuracy: 0.8844\n",
      "Epoch 8/20\n",
      "1068/1068 [==============================] - 7s 6ms/step - loss: 0.2720 - binary_accuracy: 0.8874\n",
      "Epoch 9/20\n",
      "1068/1068 [==============================] - 7s 6ms/step - loss: 0.2633 - binary_accuracy: 0.8904\n",
      "Epoch 10/20\n",
      "1068/1068 [==============================] - 7s 6ms/step - loss: 0.2549 - binary_accuracy: 0.8930\n",
      "Epoch 11/20\n",
      "1068/1068 [==============================] - 7s 6ms/step - loss: 0.2437 - binary_accuracy: 0.8970\n",
      "Epoch 12/20\n",
      "1068/1068 [==============================] - 7s 6ms/step - loss: 0.2374 - binary_accuracy: 0.9008\n",
      "Epoch 13/20\n",
      "1068/1068 [==============================] - 7s 6ms/step - loss: 0.2318 - binary_accuracy: 0.9022\n",
      "Epoch 14/20\n",
      "1068/1068 [==============================] - 7s 6ms/step - loss: 0.2260 - binary_accuracy: 0.9051\n",
      "Epoch 15/20\n",
      "1068/1068 [==============================] - 7s 6ms/step - loss: 0.2222 - binary_accuracy: 0.9068\n",
      "Epoch 16/20\n",
      "1068/1068 [==============================] - 7s 6ms/step - loss: 0.2193 - binary_accuracy: 0.9082\n",
      "Epoch 17/20\n",
      "1068/1068 [==============================] - 7s 6ms/step - loss: 0.2139 - binary_accuracy: 0.9097\n",
      "Epoch 18/20\n",
      "1068/1068 [==============================] - 7s 6ms/step - loss: 0.2100 - binary_accuracy: 0.9114\n",
      "Epoch 19/20\n",
      "1068/1068 [==============================] - 7s 6ms/step - loss: 0.2013 - binary_accuracy: 0.9149\n",
      "Epoch 20/20\n",
      "1068/1068 [==============================] - 7s 6ms/step - loss: 0.1977 - binary_accuracy: 0.9161\n"
     ]
    },
    {
     "data": {
      "text/plain": "<keras.callbacks.History at 0x7f7385895e40>"
     },
     "execution_count": 17,
     "metadata": {},
     "output_type": "execute_result"
    }
   ],
   "source": [
    "model.fit(X_train, y_train, batch_size=64, epochs=20)"
   ],
   "metadata": {
    "collapsed": false,
    "ExecuteTime": {
     "end_time": "2023-06-20T02:01:16.818993815Z",
     "start_time": "2023-06-20T01:59:03.425245001Z"
    }
   }
  },
  {
   "cell_type": "code",
   "execution_count": 18,
   "outputs": [
    {
     "name": "stdout",
     "output_type": "stream",
     "text": [
      " 22/915 [..............................] - ETA: 2s - loss: 1.2456 - binary_accuracy: 0.7472  "
     ]
    },
    {
     "name": "stderr",
     "output_type": "stream",
     "text": [
      "2023-06-20 04:02:59.620396: I tensorflow/core/common_runtime/executor.cc:1197] [/device:CPU:0] (DEBUG INFO) Executor start aborting (this does not indicate an error and you can ignore this message): INVALID_ARGUMENT: You must feed a value for placeholder tensor 'gradients/split_2_grad/concat/split_2/split_dim' with dtype int32\n",
      "\t [[{{node gradients/split_2_grad/concat/split_2/split_dim}}]]\n",
      "2023-06-20 04:02:59.621729: I tensorflow/core/common_runtime/executor.cc:1197] [/device:CPU:0] (DEBUG INFO) Executor start aborting (this does not indicate an error and you can ignore this message): INVALID_ARGUMENT: You must feed a value for placeholder tensor 'gradients/split_grad/concat/split/split_dim' with dtype int32\n",
      "\t [[{{node gradients/split_grad/concat/split/split_dim}}]]\n",
      "2023-06-20 04:02:59.622538: I tensorflow/core/common_runtime/executor.cc:1197] [/device:CPU:0] (DEBUG INFO) Executor start aborting (this does not indicate an error and you can ignore this message): INVALID_ARGUMENT: You must feed a value for placeholder tensor 'gradients/split_1_grad/concat/split_1/split_dim' with dtype int32\n",
      "\t [[{{node gradients/split_1_grad/concat/split_1/split_dim}}]]\n"
     ]
    },
    {
     "name": "stdout",
     "output_type": "stream",
     "text": [
      "915/915 [==============================] - 2s 2ms/step - loss: nan - binary_accuracy: 0.8284\n"
     ]
    },
    {
     "data": {
      "text/plain": "[nan, 0.828448474407196]"
     },
     "execution_count": 18,
     "metadata": {},
     "output_type": "execute_result"
    }
   ],
   "source": [
    "model.evaluate(X_test, y_test)"
   ],
   "metadata": {
    "collapsed": false,
    "ExecuteTime": {
     "end_time": "2023-06-20T02:03:01.770442337Z",
     "start_time": "2023-06-20T02:02:59.415746816Z"
    }
   }
  },
  {
   "cell_type": "code",
   "execution_count": 19,
   "outputs": [
    {
     "name": "stdout",
     "output_type": "stream",
     "text": [
      " 52/915 [>.............................] - ETA: 1s"
     ]
    },
    {
     "name": "stderr",
     "output_type": "stream",
     "text": [
      "2023-06-20 04:03:04.875882: I tensorflow/core/common_runtime/executor.cc:1197] [/device:CPU:0] (DEBUG INFO) Executor start aborting (this does not indicate an error and you can ignore this message): INVALID_ARGUMENT: You must feed a value for placeholder tensor 'gradients/split_2_grad/concat/split_2/split_dim' with dtype int32\n",
      "\t [[{{node gradients/split_2_grad/concat/split_2/split_dim}}]]\n",
      "2023-06-20 04:03:04.877069: I tensorflow/core/common_runtime/executor.cc:1197] [/device:CPU:0] (DEBUG INFO) Executor start aborting (this does not indicate an error and you can ignore this message): INVALID_ARGUMENT: You must feed a value for placeholder tensor 'gradients/split_grad/concat/split/split_dim' with dtype int32\n",
      "\t [[{{node gradients/split_grad/concat/split/split_dim}}]]\n",
      "2023-06-20 04:03:04.877752: I tensorflow/core/common_runtime/executor.cc:1197] [/device:CPU:0] (DEBUG INFO) Executor start aborting (this does not indicate an error and you can ignore this message): INVALID_ARGUMENT: You must feed a value for placeholder tensor 'gradients/split_1_grad/concat/split_1/split_dim' with dtype int32\n",
      "\t [[{{node gradients/split_1_grad/concat/split_1/split_dim}}]]\n"
     ]
    },
    {
     "name": "stdout",
     "output_type": "stream",
     "text": [
      "915/915 [==============================] - 2s 2ms/step\n",
      "0.8124615699938512\n",
      "0.5936957061305534\n",
      "0.6834285714285714\n",
      "0.6354097489706468\n"
     ]
    },
    {
     "data": {
      "text/plain": "array([[19000,  3274],\n       [ 2216,  4784]])"
     },
     "execution_count": 19,
     "metadata": {},
     "output_type": "execute_result"
    }
   ],
   "source": [
    "y_test_prob = model.predict(X_test, verbose=1)\n",
    "y_test_pred = np.where(y_test_prob > 0.4, 1, 0)\n",
    "accuracy = accuracy_score(y_test,y_test_pred)\n",
    "precision = precision_score(y_test,y_test_pred)\n",
    "recall = recall_score(y_test,y_test_pred)\n",
    "f1 = f1_score(y_test,y_test_pred)\n",
    "\n",
    "print(accuracy)\n",
    "print(precision)\n",
    "print(recall)\n",
    "print(f1)\n",
    "\n",
    "confusion_matrix(y_test, y_test_pred)"
   ],
   "metadata": {
    "collapsed": false,
    "ExecuteTime": {
     "end_time": "2023-06-20T02:03:07.134613559Z",
     "start_time": "2023-06-20T02:03:04.669291500Z"
    }
   }
  }
 ],
 "metadata": {
  "colab": {
   "provenance": []
  },
  "kernelspec": {
   "name": "python3",
   "language": "python",
   "display_name": "Python 3 (ipykernel)"
  },
  "language_info": {
   "codemirror_mode": {
    "name": "ipython",
    "version": 2
   },
   "file_extension": ".py",
   "mimetype": "text/x-python",
   "name": "python",
   "nbconvert_exporter": "python",
   "pygments_lexer": "ipython2",
   "version": "2.7.6"
  }
 },
 "nbformat": 4,
 "nbformat_minor": 0
}
